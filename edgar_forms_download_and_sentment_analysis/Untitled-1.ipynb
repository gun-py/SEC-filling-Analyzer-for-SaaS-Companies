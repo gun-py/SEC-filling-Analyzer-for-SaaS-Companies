{
 "cells": [
  {
   "cell_type": "code",
   "execution_count": null,
   "metadata": {},
   "outputs": [],
   "source": [
    "import pandas as pd\n"
   ]
  },
  {
   "cell_type": "code",
   "execution_count": 20,
   "metadata": {},
   "outputs": [
    {
     "data": {
      "text/html": [
       "<div>\n",
       "<style scoped>\n",
       "    .dataframe tbody tr th:only-of-type {\n",
       "        vertical-align: middle;\n",
       "    }\n",
       "\n",
       "    .dataframe tbody tr th {\n",
       "        vertical-align: top;\n",
       "    }\n",
       "\n",
       "    .dataframe thead th {\n",
       "        text-align: right;\n",
       "    }\n",
       "</style>\n",
       "<table border=\"1\" class=\"dataframe\">\n",
       "  <thead>\n",
       "    <tr style=\"text-align: right;\">\n",
       "      <th></th>\n",
       "      <th>url</th>\n",
       "      <th>cik</th>\n",
       "      <th>year</th>\n",
       "      <th>entity</th>\n",
       "      <th>docno</th>\n",
       "      <th>text</th>\n",
       "    </tr>\n",
       "  </thead>\n",
       "  <tbody>\n",
       "    <tr>\n",
       "      <th>0</th>\n",
       "      <td>https://www.sec.gov/Archives/edgar/data/145941...</td>\n",
       "      <td>1459417</td>\n",
       "      <td>22</td>\n",
       "      <td>1459417</td>\n",
       "      <td>4</td>\n",
       "      <td>twou-202112310001459417FALSE2021FYP3YP5YP4YP3Y...</td>\n",
       "    </tr>\n",
       "    <tr>\n",
       "      <th>1</th>\n",
       "      <td>https://www.sec.gov/Archives/edgar/data/145941...</td>\n",
       "      <td>1459417</td>\n",
       "      <td>21</td>\n",
       "      <td>1459417</td>\n",
       "      <td>3</td>\n",
       "      <td>twou-202012310001459417FALSE2020FYP3YP5YP4YP3Y...</td>\n",
       "    </tr>\n",
       "    <tr>\n",
       "      <th>2</th>\n",
       "      <td>https://www.sec.gov/Archives/edgar/data/145941...</td>\n",
       "      <td>1459417</td>\n",
       "      <td>20</td>\n",
       "      <td>1459417</td>\n",
       "      <td>3</td>\n",
       "      <td>Use these links to rapidly review the document...</td>\n",
       "    </tr>\n",
       "    <tr>\n",
       "      <th>3</th>\n",
       "      <td>https://www.sec.gov/Archives/edgar/data/111897...</td>\n",
       "      <td>1118974</td>\n",
       "      <td>15</td>\n",
       "      <td>1065949</td>\n",
       "      <td>281</td>\n",
       "      <td>&lt;p style=\"font: 8pt Times New Roman, Times, Se...</td>\n",
       "    </tr>\n",
       "    <tr>\n",
       "      <th>4</th>\n",
       "      <td>https://www.sec.gov/Archives/edgar/data/111897...</td>\n",
       "      <td>1118974</td>\n",
       "      <td>14</td>\n",
       "      <td>1065949</td>\n",
       "      <td>251</td>\n",
       "      <td>&lt;p style=\"margin: 0pt\"&gt;&lt;/p&gt;\\r\\r&lt;p style=\"font:...</td>\n",
       "    </tr>\n",
       "  </tbody>\n",
       "</table>\n",
       "</div>"
      ],
      "text/plain": [
       "                                                 url      cik  year   entity  \\\n",
       "0  https://www.sec.gov/Archives/edgar/data/145941...  1459417    22  1459417   \n",
       "1  https://www.sec.gov/Archives/edgar/data/145941...  1459417    21  1459417   \n",
       "2  https://www.sec.gov/Archives/edgar/data/145941...  1459417    20  1459417   \n",
       "3  https://www.sec.gov/Archives/edgar/data/111897...  1118974    15  1065949   \n",
       "4  https://www.sec.gov/Archives/edgar/data/111897...  1118974    14  1065949   \n",
       "\n",
       "   docno                                               text  \n",
       "0      4  twou-202112310001459417FALSE2021FYP3YP5YP4YP3Y...  \n",
       "1      3  twou-202012310001459417FALSE2020FYP3YP5YP4YP3Y...  \n",
       "2      3  Use these links to rapidly review the document...  \n",
       "3    281  <p style=\"font: 8pt Times New Roman, Times, Se...  \n",
       "4    251  <p style=\"margin: 0pt\"></p>\\r\\r<p style=\"font:...  "
      ]
     },
     "execution_count": 20,
     "metadata": {},
     "output_type": "execute_result"
    }
   ],
   "source": [
    "df=pd.read_csv('txt_csvs/10K.csv',delimiter=',')\n",
    "df.head()"
   ]
  },
  {
   "cell_type": "code",
   "execution_count": 14,
   "metadata": {},
   "outputs": [],
   "source": [
    "st=df.iloc[0].text"
   ]
  },
  {
   "cell_type": "code",
   "execution_count": null,
   "metadata": {},
   "outputs": [],
   "source": [
    "print(st)"
   ]
  },
  {
   "cell_type": "code",
   "execution_count": 29,
   "metadata": {},
   "outputs": [],
   "source": [
    "save_path='10-K forms/'\n",
    "for i in range(df.shape[0]):\n",
    "    entry=df.iloc[i]\n",
    "    path=str(entry['cik'])+'-'+str(entry['year'])+'-'+str(entry['entity'])+'-'+str(entry['docno'])+'.txt'\n",
    "    st=entry['text']\n",
    "    ind=st.rfind('gaap')\n",
    "    st_md=st[ind+30:]\n",
    "    fl=open(save_path+path,'w+')\n",
    "    fl.writelines(st_md)\n",
    "    fl.close()\n",
    "\n",
    "    "
   ]
  },
  {
   "cell_type": "code",
   "execution_count": null,
   "metadata": {},
   "outputs": [],
   "source": [
    "ind=st.rfind('gaap')\n",
    "st_md=st[ind+20:]\n",
    "print(st_md)"
   ]
  },
  {
   "cell_type": "code",
   "execution_count": 28,
   "metadata": {},
   "outputs": [
    {
     "name": "stdout",
     "output_type": "stream",
     "text": [
      "1459417-22-1459417-4.txt\n"
     ]
    }
   ],
   "source": [
    "entry=df.iloc[0]\n",
    "path=str(entry['cik'])+'-'+str(entry['year'])+'-'+str(entry['entity'])+'-'+str(entry['docno'])+'.txt'\n",
    "print(path)"
   ]
  },
  {
   "cell_type": "code",
   "execution_count": 30,
   "metadata": {},
   "outputs": [
    {
     "name": "stdout",
     "output_type": "stream",
     "text": [
      "(768, 6)\n"
     ]
    }
   ],
   "source": [
    "print(df.shape)"
   ]
  },
  {
   "cell_type": "code",
   "execution_count": null,
   "metadata": {},
   "outputs": [],
   "source": [
    "path=r''\n",
    "import json\n",
    "fl=open(path,encoding='mbcs')\n",
    "dr=json.load(fl)\n",
    "print(list(dr.getKeys()))"
   ]
  }
 ],
 "metadata": {
  "interpreter": {
   "hash": "4f089d5d4fecc9b26343308b996fdd689be150f0b9db90d9fd8a6c55a5fc822c"
  },
  "kernelspec": {
   "display_name": "Python 3.7.8 64-bit",
   "language": "python",
   "name": "python3"
  },
  "language_info": {
   "codemirror_mode": {
    "name": "ipython",
    "version": 3
   },
   "file_extension": ".py",
   "mimetype": "text/x-python",
   "name": "python",
   "nbconvert_exporter": "python",
   "pygments_lexer": "ipython3",
   "version": "3.7.8"
  },
  "orig_nbformat": 4
 },
 "nbformat": 4,
 "nbformat_minor": 2
}
