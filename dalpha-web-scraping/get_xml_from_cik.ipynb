{
  "nbformat": 4,
  "nbformat_minor": 0,
  "metadata": {
    "colab": {
      "name": "Get XLMs from CIK.ipynb",
      "provenance": [],
      "collapsed_sections": []
    },
    "kernelspec": {
      "name": "python3",
      "display_name": "Python 3"
    },
    "language_info": {
      "name": "python"
    }
  },
  "cells": [
    {
      "cell_type": "code",
      "source": [
        "import requests\n",
        "from bs4 import BeautifulSoup\n",
        "import os"
      ],
      "metadata": {
        "id": "-bTesUT6-7kV"
      },
      "execution_count": 1,
      "outputs": []
    },
    {
      "cell_type": "code",
      "metadata": {
        "id": "32ZnhSJv0KMU"
      },
      "source": [
        "cik = '769397'\n",
        "form = '10-k'\n",
        "\n",
        "base = 'https://www.sec.gov/cgi-bin/browse-edgar?action=getcompany&CIK={}&type={}&dateb=&owner=include&count=100&search_text='.format(cik, form)\n",
        "heads = {\"User-Agent\": \"Mozilla/5.0 (Windows NT 10.0; Win64; x64)\"}\n",
        "\n",
        "content = requests.get(base, headers = heads)\n",
        "bs4_base = BeautifulSoup(content.text)\n",
        "for hrefs in bs4_base.find_all('a', href=True):\n",
        "    if hrefs['href'].split('.')[-1] == 'htm' and len(hrefs['href'].split('/')) == 7:\n",
        "        htm_url = 'https://www.sec.gov/' + hrefs['href']\n",
        "        content = requests.get(htm_url, headers = heads)\n",
        "        bs4_htm = BeautifulSoup(content.text)\n",
        "        for htm_hrefs in bs4_htm.find_all('a', href=True):\n",
        "            if htm_hrefs['href'].split('.')[-1] == 'xml':\n",
        "                url = 'https://www.sec.gov/' + htm_hrefs['href']\n",
        "                bs4_end = BeautifulSoup(requests.get(url, headers = heads).text)\n",
        "                f =  open(url.split('/')[-1], \"w\")\n",
        "                f.write(str(bs4_end))\n",
        "                f.close()"
      ],
      "execution_count": 3,
      "outputs": []
    },
    {
      "cell_type": "code",
      "source": [
        "os.listdir('.')"
      ],
      "metadata": {
        "colab": {
          "base_uri": "https://localhost:8080/"
        },
        "id": "oAhDLPj8--HS",
        "outputId": "2f9987c1-ac76-45a0-a0f5-6ffd9cd471b8"
      },
      "execution_count": 4,
      "outputs": [
        {
          "output_type": "execute_result",
          "data": {
            "text/plain": [
              "['.config',\n",
              " 'adsk-20200131_def.xml',\n",
              " 'adsk-20150131_pre.xml',\n",
              " 'adsk-20170131_pre.xml',\n",
              " 'adsk-20130131_lab.xml',\n",
              " 'adsk-20180131_def.xml',\n",
              " 'adsk-20100131_cal.xml',\n",
              " 'adsk-20110131_cal.xml',\n",
              " 'adsk-20100131.xml',\n",
              " 'adsk-20160131.xml',\n",
              " 'adsk-20190131_lab.xml',\n",
              " 'adsk-20130131_cal.xml',\n",
              " 'adsk-20130131.xml',\n",
              " 'adsk-20140131_cal.xml',\n",
              " 'adsk-0131201910xk_htm.xml',\n",
              " 'adsk-20130131_def.xml',\n",
              " 'adsk-20130131_pre.xml',\n",
              " 'adsk-20150131_def.xml',\n",
              " 'adsk-20210131_lab.xml',\n",
              " 'adsk-20180131_lab.xml',\n",
              " 'adsk-20160131_pre.xml',\n",
              " 'adsk-20100131_lab.xml',\n",
              " 'adsk-20150131.xml',\n",
              " 'adsk-20110131_def.xml',\n",
              " 'adsk-20150131_cal.xml',\n",
              " 'adsk-20110131_lab.xml',\n",
              " 'adsk-20120131_cal.xml',\n",
              " 'adsk-20170131.xml',\n",
              " 'adsk-20120131.xml',\n",
              " 'adsk-20200131_pre.xml',\n",
              " 'adsk-20200131_cal.xml',\n",
              " 'adsk-0131202010xk_htm.xml',\n",
              " 'adsk-20180131_cal.xml',\n",
              " 'adsk-20170131_lab.xml',\n",
              " 'adsk-20100131_def.xml',\n",
              " 'adsk-20210131_pre.xml',\n",
              " 'adsk-20100131_pre.xml',\n",
              " 'adsk-20120131_def.xml',\n",
              " 'adsk-20140131.xml',\n",
              " 'adsk-20170131_cal.xml',\n",
              " 'adsk-20160131_cal.xml',\n",
              " 'adsk-20210131_htm.xml',\n",
              " 'adsk-20200131_lab.xml',\n",
              " 'adsk-20120131_lab.xml',\n",
              " 'adsk-20140131_pre.xml',\n",
              " 'adsk-20190131_def.xml',\n",
              " 'adsk-20140131_def.xml',\n",
              " 'adsk-0131201810xk_htm.xml',\n",
              " 'adsk-20120131_pre.xml',\n",
              " 'adsk-20140131_lab.xml',\n",
              " 'adsk-20160131_lab.xml',\n",
              " 'adsk-20170131_def.xml',\n",
              " 'adsk-20150131_lab.xml',\n",
              " 'adsk-20210131_def.xml',\n",
              " 'adsk-20190131_pre.xml',\n",
              " 'adsk-20190131_cal.xml',\n",
              " 'adsk-20180131_pre.xml',\n",
              " 'adsk-20210131_cal.xml',\n",
              " 'adsk-20160131_def.xml',\n",
              " 'adsk-20110131.xml',\n",
              " 'adsk-20110131_pre.xml',\n",
              " 'sample_data']"
            ]
          },
          "metadata": {},
          "execution_count": 4
        }
      ]
    },
    {
      "cell_type": "code",
      "source": [
        "!zip -r /content/content.zip /content"
      ],
      "metadata": {
        "colab": {
          "base_uri": "https://localhost:8080/"
        },
        "id": "8w4NlJZ-_VUz",
        "outputId": "a007eaf3-35da-437d-d0a9-416a7b18923c"
      },
      "execution_count": 5,
      "outputs": [
        {
          "output_type": "stream",
          "name": "stdout",
          "text": [
            "  adding: content/ (stored 0%)\n",
            "  adding: content/.config/ (stored 0%)\n",
            "  adding: content/.config/.last_opt_in_prompt.yaml (stored 0%)\n",
            "  adding: content/.config/.last_survey_prompt.yaml (stored 0%)\n",
            "  adding: content/.config/logs/ (stored 0%)\n",
            "  adding: content/.config/logs/2022.03.09/ (stored 0%)\n",
            "  adding: content/.config/logs/2022.03.09/14.48.04.811374.log (deflated 55%)\n",
            "  adding: content/.config/logs/2022.03.09/14.47.47.173052.log (deflated 53%)\n",
            "  adding: content/.config/logs/2022.03.09/14.47.03.286667.log (deflated 91%)\n",
            "  adding: content/.config/logs/2022.03.09/14.48.05.464073.log (deflated 54%)\n",
            "  adding: content/.config/logs/2022.03.09/14.47.40.126263.log (deflated 86%)\n",
            "  adding: content/.config/logs/2022.03.09/14.47.22.983659.log (deflated 54%)\n",
            "  adding: content/.config/active_config (stored 0%)\n",
            "  adding: content/.config/config_sentinel (stored 0%)\n",
            "  adding: content/.config/configurations/ (stored 0%)\n",
            "  adding: content/.config/configurations/config_default (deflated 15%)\n",
            "  adding: content/.config/.metricsUUID (stored 0%)\n",
            "  adding: content/.config/gce (stored 0%)\n",
            "  adding: content/.config/.feature_flags_config.yaml (deflated 23%)\n",
            "  adding: content/.config/.last_update_check.json (deflated 22%)\n",
            "  adding: content/adsk-20200131_def.xml (deflated 92%)\n",
            "  adding: content/adsk-20150131_pre.xml (deflated 92%)\n",
            "  adding: content/adsk-20170131_pre.xml (deflated 93%)\n",
            "  adding: content/adsk-20130131_lab.xml (deflated 93%)\n",
            "  adding: content/adsk-20180131_def.xml (deflated 92%)\n",
            "  adding: content/adsk-20100131_cal.xml (deflated 92%)\n",
            "  adding: content/adsk-20110131_cal.xml (deflated 93%)\n",
            "  adding: content/adsk-20100131.xml (deflated 93%)\n",
            "  adding: content/adsk-20160131.xml (deflated 95%)\n",
            "  adding: content/adsk-20190131_lab.xml (deflated 93%)\n",
            "  adding: content/adsk-20130131_cal.xml (deflated 93%)\n",
            "  adding: content/adsk-20130131.xml (deflated 95%)\n",
            "  adding: content/adsk-20140131_cal.xml (deflated 93%)\n",
            "  adding: content/adsk-0131201910xk_htm.xml (deflated 94%)\n",
            "  adding: content/adsk-20130131_def.xml (deflated 92%)\n",
            "  adding: content/adsk-20130131_pre.xml (deflated 92%)\n",
            "  adding: content/adsk-20150131_def.xml (deflated 92%)\n",
            "  adding: content/adsk-20210131_lab.xml (deflated 91%)\n",
            "  adding: content/adsk-20180131_lab.xml (deflated 93%)\n",
            "  adding: content/adsk-20160131_pre.xml (deflated 92%)\n",
            "  adding: content/adsk-20100131_lab.xml (deflated 92%)\n",
            "  adding: content/adsk-20150131.xml (deflated 95%)\n",
            "  adding: content/adsk-20110131_def.xml (deflated 95%)\n",
            "  adding: content/adsk-20150131_cal.xml (deflated 91%)\n",
            "  adding: content/adsk-20110131_lab.xml (deflated 93%)\n",
            "  adding: content/adsk-20120131_cal.xml (deflated 93%)\n",
            "  adding: content/adsk-20170131.xml (deflated 95%)\n",
            "  adding: content/adsk-20120131.xml (deflated 95%)\n",
            "  adding: content/adsk-20200131_pre.xml (deflated 92%)\n",
            "  adding: content/adsk-20200131_cal.xml (deflated 91%)\n",
            "  adding: content/adsk-0131202010xk_htm.xml (deflated 94%)\n",
            "  adding: content/adsk-20180131_cal.xml (deflated 91%)\n",
            "  adding: content/adsk-20170131_lab.xml (deflated 93%)\n",
            "  adding: content/adsk-20100131_def.xml (deflated 95%)\n",
            "  adding: content/adsk-20210131_pre.xml (deflated 92%)\n",
            "  adding: content/adsk-20100131_pre.xml (deflated 95%)\n",
            "  adding: content/adsk-20120131_def.xml (deflated 92%)\n",
            "  adding: content/adsk-20140131.xml (deflated 95%)\n",
            "  adding: content/adsk-20170131_cal.xml (deflated 91%)\n",
            "  adding: content/adsk-20160131_cal.xml (deflated 91%)\n",
            "  adding: content/adsk-20210131_htm.xml (deflated 92%)\n",
            "  adding: content/adsk-20200131_lab.xml (deflated 93%)\n",
            "  adding: content/adsk-20120131_lab.xml (deflated 93%)\n",
            "  adding: content/adsk-20140131_pre.xml (deflated 92%)\n",
            "  adding: content/adsk-20190131_def.xml (deflated 92%)\n",
            "  adding: content/adsk-20140131_def.xml (deflated 92%)\n",
            "  adding: content/adsk-0131201810xk_htm.xml (deflated 95%)\n",
            "  adding: content/adsk-20120131_pre.xml (deflated 92%)\n",
            "  adding: content/adsk-20140131_lab.xml (deflated 93%)\n",
            "  adding: content/adsk-20160131_lab.xml (deflated 93%)\n",
            "  adding: content/adsk-20170131_def.xml (deflated 92%)\n",
            "  adding: content/adsk-20150131_lab.xml (deflated 93%)\n",
            "  adding: content/adsk-20210131_def.xml (deflated 91%)\n",
            "  adding: content/adsk-20190131_pre.xml (deflated 93%)\n",
            "  adding: content/adsk-20190131_cal.xml (deflated 91%)\n",
            "  adding: content/adsk-20180131_pre.xml (deflated 93%)\n",
            "  adding: content/adsk-20210131_cal.xml (deflated 91%)\n",
            "  adding: content/adsk-20160131_def.xml (deflated 92%)\n",
            "  adding: content/adsk-20110131.xml (deflated 94%)\n",
            "  adding: content/adsk-20110131_pre.xml (deflated 95%)\n",
            "  adding: content/sample_data/ (stored 0%)\n",
            "  adding: content/sample_data/anscombe.json (deflated 83%)\n",
            "  adding: content/sample_data/README.md (deflated 42%)\n",
            "  adding: content/sample_data/california_housing_train.csv (deflated 79%)\n",
            "  adding: content/sample_data/california_housing_test.csv (deflated 76%)\n",
            "  adding: content/sample_data/mnist_train_small.csv (deflated 88%)\n",
            "  adding: content/sample_data/mnist_test.csv (deflated 88%)\n"
          ]
        }
      ]
    },
    {
      "cell_type": "code",
      "source": [
        ""
      ],
      "metadata": {
        "id": "TLJViIgS_mu-"
      },
      "execution_count": null,
      "outputs": []
    }
  ]
}