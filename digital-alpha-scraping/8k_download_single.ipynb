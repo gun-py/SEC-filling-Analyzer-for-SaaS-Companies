{
 "cells": [
  {
   "cell_type": "code",
   "execution_count": null,
   "metadata": {},
   "outputs": [],
   "source": [
    "import os\n",
    "import requests\n",
    "from bs4 import BeautifulSoup\n",
    "import pandas as pd"
   ]
  },
  {
   "cell_type": "code",
   "execution_count": null,
   "metadata": {},
   "outputs": [],
   "source": [
    "cik = '796343'\n",
    "def download_txt(cik):\n",
    "    base = 'https://www.sec.gov/cgi-bin/browse-edgar?action=getcompany&CIK={}&type={}&dateb=&owner=include&count=100&search_text='.format(cik, '8-k')\n",
    "    heads = {\"User-Agent\": \"Mozilla/5.0 (Windows NT 10.0; Win64; x64)\"}\n",
    "\n",
    "    content = requests.get(base, headers = heads)\n",
    "    bs4_base = BeautifulSoup(content.text)\n",
    "    years = 0\n",
    "\n",
    "    path_dict = {}\n",
    "    \n",
    "    for hrefs in bs4_base.find_all('a', href=True):\n",
    "\n",
    "        if hrefs['href'].split('.')[-1] == 'htm' and len(hrefs['href'].split('/')) == 7:\n",
    "            if hrefs.parent.parent.td.get_text().lower() != '8-k':\n",
    "                continue\n",
    "            years += 1\n",
    "            htm_url = 'https://www.sec.gov/' + hrefs['href']\n",
    "            content = requests.get(htm_url, headers = heads)\n",
    "            bs4_htm = BeautifulSoup(content.text)\n",
    "\n",
    "            for htm_hrefs in bs4_htm.find_all('a', href=True):\n",
    "                if htm_hrefs['href'].split('.')[-1] == 'xml':\n",
    "                    x = htm_hrefs['href'].split('.')[-2].split('_')[-1]\n",
    "                    if x == 'def':\n",
    "                        y = htm_hrefs['href'].split('/')[-1]\n",
    "                        z = y.split('-')[1][:8]\n",
    "                        break\n",
    "\n",
    "            for htm_hrefs in bs4_htm.find_all('a', href=True):\n",
    "                if htm_hrefs['href'].split('.')[-1] == 'txt':\n",
    "\n",
    "                    url = 'https://www.sec.gov/' + htm_hrefs['href']\n",
    "                    bs4_end = BeautifulSoup(requests.get(url, headers = heads).text)\n",
    "                    y = url.split('/')[-1]\n",
    "                    \n",
    "                    file_path = '8k-forms/' + cik + '.txt'\n",
    "                    path_dict[cik] = file_path\n",
    "                    with open(file_path, \"w\", encoding=\"utf-8\") as file:\n",
    "                        file.write(str(bs4_end))\n",
    "\n",
    "        if years >= 1:\n",
    "            break\n",
    "\n",
    "    return file_path\n"
   ]
  },
  {
   "cell_type": "code",
   "execution_count": null,
   "metadata": {},
   "outputs": [],
   "source": [
    "df = pd.read_csv('base_comp_cik2.csv')\n",
    "df = df[df['CIK'].isna() == False]"
   ]
  },
  {
   "cell_type": "code",
   "execution_count": null,
   "metadata": {},
   "outputs": [],
   "source": [
    "all_paths = {}\n",
    "for index, i in enumerate(df.index):\n",
    "    cik = str(int(df.iloc[i]['CIK']))\n",
    "    try:\n",
    "        path = download_txt(cik)\n",
    "        all_paths[cik] = path\n",
    "    except:\n",
    "        pass\n",
    "    print(index, i)\n",
    "        "
   ]
  },
  {
   "cell_type": "code",
   "execution_count": null,
   "metadata": {},
   "outputs": [],
   "source": [
    "all_paths"
   ]
  },
  {
   "cell_type": "code",
   "execution_count": null,
   "metadata": {},
   "outputs": [],
   "source": [
    "!conda install ipykernel --update-deps --force-reinstall"
   ]
  },
  {
   "cell_type": "code",
   "execution_count": null,
   "metadata": {},
   "outputs": [],
   "source": []
  }
 ],
 "metadata": {
  "interpreter": {
   "hash": "de63583b5241f31aa783edc0ffe6ee2a23444d256258b6e5a5489518f8001f8b"
  },
  "kernelspec": {
   "display_name": "Python 3.9.7 ('base')",
   "language": "python",
   "name": "python3"
  },
  "language_info": {
   "codemirror_mode": {
    "name": "ipython",
    "version": 3
   },
   "file_extension": ".py",
   "mimetype": "text/x-python",
   "name": "python",
   "nbconvert_exporter": "python",
   "pygments_lexer": "ipython3",
   "version": "3.9.7"
  },
  "orig_nbformat": 4
 },
 "nbformat": 4,
 "nbformat_minor": 2
}
