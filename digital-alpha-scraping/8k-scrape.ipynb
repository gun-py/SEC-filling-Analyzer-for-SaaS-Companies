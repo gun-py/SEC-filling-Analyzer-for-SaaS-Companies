{
 "cells": [
  {
   "cell_type": "code",
   "execution_count": null,
   "metadata": {},
   "outputs": [],
   "source": [
    "from bs4 import BeautifulSoup\n",
    "import os"
   ]
  },
  {
   "cell_type": "code",
   "execution_count": null,
   "metadata": {},
   "outputs": [],
   "source": [
    "path = r\"8k-forms\\1773383.txt\""
   ]
  },
  {
   "cell_type": "code",
   "execution_count": null,
   "metadata": {},
   "outputs": [],
   "source": [
    "with open(path) as file:\n",
    "    soup = BeautifulSoup(file.read())"
   ]
  },
  {
   "cell_type": "code",
   "execution_count": null,
   "metadata": {},
   "outputs": [],
   "source": [
    "x = soup.find_all('div')"
   ]
  },
  {
   "cell_type": "code",
   "execution_count": null,
   "metadata": {},
   "outputs": [],
   "source": [
    "def scrape8k(x):\n",
    "    arr = []\n",
    "    text = []\n",
    "\n",
    "    for i in x:\n",
    "        y = i.get_text()\n",
    "        if y.strip().lower() == 'signature':\n",
    "            arr.append(\"\\n\".join(text))\n",
    "            break\n",
    "        if y.strip()[:4].lower() == 'item':\n",
    "            arr.append(\"\\n\".join(text))\n",
    "            text = []\n",
    "            if '9.01' in y.strip()[:20]:\n",
    "                break\n",
    "        text.append(y.strip())\n",
    "    \n",
    "    return arr[1:]   "
   ]
  },
  {
   "cell_type": "code",
   "execution_count": null,
   "metadata": {},
   "outputs": [],
   "source": [
    "paths = ['8k-forms/'+i for i in os.listdir('8k-forms')]"
   ]
  },
  {
   "cell_type": "code",
   "execution_count": null,
   "metadata": {},
   "outputs": [],
   "source": [
    "for index,form in enumerate(paths):\n",
    "    with open(form) as file:\n",
    "        soup = BeautifulSoup(file.read())\n",
    "    x = soup.find_all('p')\n",
    "    if x != []:\n",
    "        arr = scrape8k(x)\n",
    "        if arr == []:\n",
    "            continue\n",
    "        with open(form.replace('8k-forms', 'scraped-8k'), \"w\") as f:\n",
    "            f.writelines(arr)"
   ]
  },
  {
   "cell_type": "code",
   "execution_count": null,
   "metadata": {},
   "outputs": [],
   "source": [
    "for index,form in enumerate(paths):\n",
    "    with open(form) as file:\n",
    "        soup = BeautifulSoup(file.read())\n",
    "    x = soup.find_all('div')\n",
    "    if x != []:\n",
    "        arr = scrape8k(x)\n",
    "        if arr == []:\n",
    "            continue\n",
    "        if os.path.exists(form.replace('8k-forms', 'scraped-8k')):\n",
    "            continue\n",
    "        with open(form.replace('8k-forms', 'scraped-8k'), \"w\") as f:\n",
    "            f.writelines(arr)"
   ]
  },
  {
   "cell_type": "code",
   "execution_count": null,
   "metadata": {},
   "outputs": [],
   "source": [
    "import json\n",
    "with open('date.json') as f:\n",
    "    date_dict = json.load(f)"
   ]
  },
  {
   "cell_type": "code",
   "execution_count": null,
   "metadata": {},
   "outputs": [],
   "source": [
    "paths = ['scraped-8k/'+i for i in os.listdir('scraped-8k')]\n",
    "for form in paths:\n",
    "    cik = form.split('/')[1][:-4]\n",
    "    os.rename(form, 'scraped-8k/'+cik+'_'+date_dict[cik]+'.txt')"
   ]
  }
 ],
 "metadata": {
  "interpreter": {
   "hash": "de63583b5241f31aa783edc0ffe6ee2a23444d256258b6e5a5489518f8001f8b"
  },
  "kernelspec": {
   "display_name": "Python 3.9.7 ('base')",
   "language": "python",
   "name": "python3"
  },
  "language_info": {
   "codemirror_mode": {
    "name": "ipython",
    "version": 3
   },
   "file_extension": ".py",
   "mimetype": "text/x-python",
   "name": "python",
   "nbconvert_exporter": "python",
   "pygments_lexer": "ipython3",
   "version": "3.9.7"
  },
  "orig_nbformat": 4
 },
 "nbformat": 4,
 "nbformat_minor": 2
}
