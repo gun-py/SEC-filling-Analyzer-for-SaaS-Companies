{
 "cells": [
  {
   "cell_type": "code",
   "execution_count": null,
   "metadata": {},
   "outputs": [],
   "source": [
    "import json\n",
    "import os\n",
    "from scraper2.web_scraper import FinancialStatements, Attributes"
   ]
  },
  {
   "cell_type": "code",
   "execution_count": null,
   "metadata": {},
   "outputs": [],
   "source": [
    "with open('path.json') as f:\n",
    "    paths = json.load(f)"
   ]
  },
  {
   "cell_type": "code",
   "execution_count": null,
   "metadata": {},
   "outputs": [],
   "source": [
    "i=1\n",
    "for cik in paths:\n",
    "    if paths[cik] == {}:\n",
    "        continue\n",
    "    path_dict = paths[cik]\n",
    "    for year in path_dict:\n",
    "        calculation_file = path_dict[year]['cal']\n",
    "        label_file = path_dict[year]['lab']\n",
    "        extracted_file = path_dict[year]['htm']\n",
    "        try:\n",
    "            x = FinancialStatements(calculation_file, extracted_file)\n",
    "            if x.financial_statements != {} and x.financial_statements[list(x.financial_statements.keys())[0]] != {}:\n",
    "                if not os.path.exists('financial_statements2/'+cik):\n",
    "                    os.makedirs('financial_statements2/'+cik)\n",
    "                print(x)\n",
    "                x.save_json('financial_statements2/'+cik+'/'+year+'.json')\n",
    "        except:\n",
    "            pass\n",
    "\n",
    "        try:\n",
    "            x = Attributes(label_file, extracted_file)\n",
    "            print(x)\n",
    "            if x.attributes != {} and x.attributes[list(x.attributes.keys())[0]] != {}:\n",
    "                if not os.path.exists('attributes2/'+cik):\n",
    "                    os.makedirs('attributes2/'+cik)\n",
    "                x.save_json('attributes2/'+cik+'/'+year+'.json')\n",
    "        except:\n",
    "            pass\n",
    "    print(i)\n",
    "    i+=1\n"
   ]
  },
  {
   "cell_type": "code",
   "execution_count": null,
   "metadata": {},
   "outputs": [],
   "source": []
  }
 ],
 "metadata": {
  "interpreter": {
   "hash": "de63583b5241f31aa783edc0ffe6ee2a23444d256258b6e5a5489518f8001f8b"
  },
  "kernelspec": {
   "display_name": "Python 3.9.7 ('base')",
   "language": "python",
   "name": "python3"
  },
  "language_info": {
   "codemirror_mode": {
    "name": "ipython",
    "version": 3
   },
   "file_extension": ".py",
   "mimetype": "text/x-python",
   "name": "python",
   "nbconvert_exporter": "python",
   "pygments_lexer": "ipython3",
   "version": "3.9.7"
  },
  "orig_nbformat": 4
 },
 "nbformat": 4,
 "nbformat_minor": 2
}
